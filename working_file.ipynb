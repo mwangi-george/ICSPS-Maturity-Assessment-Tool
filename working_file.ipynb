{
 "cells": [
  {
   "cell_type": "code",
   "execution_count": 6,
   "metadata": {},
   "outputs": [
    {
     "data": {
      "text/plain": [
       "'April'"
      ]
     },
     "execution_count": 6,
     "metadata": {},
     "output_type": "execute_result"
    }
   ],
   "source": [
    "import calendar\n",
    "\n",
    "calendar.month_name[4]"
   ]
  },
  {
   "cell_type": "code",
   "execution_count": 1,
   "metadata": {},
   "outputs": [],
   "source": [
    "import numpy as np"
   ]
  },
  {
   "cell_type": "code",
   "execution_count": 7,
   "metadata": {},
   "outputs": [
    {
     "name": "stdout",
     "output_type": "stream",
     "text": [
      "   array1  array2  array3\n",
      "0     1.0     4.0       6\n",
      "1     2.0     5.0       7\n",
      "2     3.0     NaN       8\n",
      "3     NaN     NaN       9\n"
     ]
    }
   ],
   "source": [
    "import pandas as pd\n",
    "\n",
    "\n",
    "# Example dictionary with arrays of different lengths\n",
    "data = {\n",
    "    'array1': [1, 2, 3],\n",
    "    'array2': [4, 5],\n",
    "    'array3': [6, 7, 8, 9]\n",
    "}\n",
    "\n",
    "# Determine the maximum length of arrays\n",
    "max_length = max(len(arr) for arr in data.values())\n",
    "\n",
    "# Pad shorter arrays with NaN to match the maximum length\n",
    "padded_data = {key: arr + [float('nan')] * (max_length - len(arr))\n",
    "               for key, arr in data.items()}\n",
    "\n",
    "# Convert the padded data to a DataFrame\n",
    "df = pd.DataFrame(padded_data)\n",
    "\n",
    "# Display the DataFrame\n",
    "print(df)"
   ]
  },
  {
   "cell_type": "code",
   "execution_count": null,
   "metadata": {},
   "outputs": [],
   "source": [
    "\n",
    "selected = option_menu(\n",
    "    menu_title=None,\n",
    "    options=[\n",
    "        \"Home Page\",\n",
    "        \"Data Entry\",\n",
    "\n",
    "    ],\n",
    "    icons=[\n",
    "        'house', '1-circle', '2-circle', '3-circle',\n",
    "        '4-circle', '5-circle', '6-circle'\n",
    "    ],\n",
    "    menu_icon=\"list-nested\",\n",
    "    default_index=0,\n",
    "    orientation=\"horizontal\"\n",
    ")"
   ]
  },
  {
   "cell_type": "code",
   "execution_count": null,
   "metadata": {},
   "outputs": [],
   "source": [
    "def owner_data():\n",
    "    details = {\n",
    "        \"date_recorded\": datetime.now(),\n",
    "        \"country\": st.session_state.country_name,\n",
    "        \"name/org\": st.session_state.owner_name,\n",
    "        \"review_period\": st.session_state.review_period\n",
    "    }\n",
    "    return details"
   ]
  },
  {
   "cell_type": "code",
   "execution_count": null,
   "metadata": {},
   "outputs": [],
   "source": [
    "\n",
    "if st.button(\"Submit & Proceed\", key=\"owner_info_button\"):\n",
    "    if not country_being_assessed or not owner_name or not review_period:\n",
    "        st.error(\"Please fill out all fields.\")\n",
    "    else:\n",
    "        print(country_being_assessed, owner_name, review_period)\n",
    "        st.success(\n",
    "            \"Submitted! Proceed to the next tab to perform assessment\")"
   ]
  },
  {
   "cell_type": "code",
   "execution_count": 15,
   "metadata": {},
   "outputs": [
    {
     "data": {
      "text/html": [
       "<div>\n",
       "<style scoped>\n",
       "    .dataframe tbody tr th:only-of-type {\n",
       "        vertical-align: middle;\n",
       "    }\n",
       "\n",
       "    .dataframe tbody tr th {\n",
       "        vertical-align: top;\n",
       "    }\n",
       "\n",
       "    .dataframe thead th {\n",
       "        text-align: right;\n",
       "    }\n",
       "</style>\n",
       "<table border=\"1\" class=\"dataframe\">\n",
       "  <thead>\n",
       "    <tr style=\"text-align: right;\">\n",
       "      <th></th>\n",
       "      <th>x</th>\n",
       "    </tr>\n",
       "  </thead>\n",
       "  <tbody>\n",
       "    <tr>\n",
       "      <th>0</th>\n",
       "      <td>team_status</td>\n",
       "    </tr>\n",
       "  </tbody>\n",
       "</table>\n",
       "</div>"
      ],
      "text/plain": [
       "             x\n",
       "0  team_status"
      ]
     },
     "execution_count": 15,
     "metadata": {},
     "output_type": "execute_result"
    }
   ],
   "source": [
    "import pandas as pd\n",
    "\n",
    "responses = {\n",
    "    \"x\": \"team_status\"\n",
    "}\n",
    "\n",
    "pd.DataFrame(responses, index=[0])"
   ]
  },
  {
   "cell_type": "code",
   "execution_count": null,
   "metadata": {},
   "outputs": [],
   "source": [
    "pd.DataFrame(responses, index=\"1\")"
   ]
  },
  {
   "cell_type": "code",
   "execution_count": 2,
   "metadata": {},
   "outputs": [],
   "source": [
    "\n",
    "import pandas as pd\n",
    "x = {\n",
    "    \"name\": \"George\", \"Id\": 2344\n",
    "}\n",
    "x_df = pd.DataFrame(x, index=[0])\n",
    "\n",
    "y = {\n",
    "    \"name\": [1, 2], \"Id\": [334, 233], \"gender\": [\"M\", \"F\"]\n",
    "}\n",
    "y_df = pd.DataFrame(y)"
   ]
  },
  {
   "cell_type": "code",
   "execution_count": 33,
   "metadata": {},
   "outputs": [
    {
     "data": {
      "text/html": [
       "<div>\n",
       "<style scoped>\n",
       "    .dataframe tbody tr th:only-of-type {\n",
       "        vertical-align: middle;\n",
       "    }\n",
       "\n",
       "    .dataframe tbody tr th {\n",
       "        vertical-align: top;\n",
       "    }\n",
       "\n",
       "    .dataframe thead th {\n",
       "        text-align: right;\n",
       "    }\n",
       "</style>\n",
       "<table border=\"1\" class=\"dataframe\">\n",
       "  <thead>\n",
       "    <tr style=\"text-align: right;\">\n",
       "      <th></th>\n",
       "      <th>name</th>\n",
       "      <th>Id</th>\n",
       "      <th>name</th>\n",
       "      <th>Id</th>\n",
       "      <th>gender</th>\n",
       "    </tr>\n",
       "  </thead>\n",
       "  <tbody>\n",
       "    <tr>\n",
       "      <th>0</th>\n",
       "      <td>George</td>\n",
       "      <td>2344.0</td>\n",
       "      <td>1</td>\n",
       "      <td>334</td>\n",
       "      <td>M</td>\n",
       "    </tr>\n",
       "    <tr>\n",
       "      <th>1</th>\n",
       "      <td>NaN</td>\n",
       "      <td>NaN</td>\n",
       "      <td>2</td>\n",
       "      <td>233</td>\n",
       "      <td>F</td>\n",
       "    </tr>\n",
       "  </tbody>\n",
       "</table>\n",
       "</div>"
      ],
      "text/plain": [
       "     name      Id  name   Id gender\n",
       "0  George  2344.0     1  334      M\n",
       "1     NaN     NaN     2  233      F"
      ]
     },
     "execution_count": 33,
     "metadata": {},
     "output_type": "execute_result"
    }
   ],
   "source": [
    "pd.concat([x_df, y_df], axis=1)"
   ]
  },
  {
   "cell_type": "code",
   "execution_count": 20,
   "metadata": {},
   "outputs": [
    {
     "data": {
      "text/plain": [
       "'y'"
      ]
     },
     "execution_count": 20,
     "metadata": {},
     "output_type": "execute_result"
    }
   ],
   "source": [
    "def func():\n",
    "    return \"x\", \"y\"\n",
    "\n",
    "\n",
    "func()[1]\n",
    "\n",
    "pd"
   ]
  },
  {
   "cell_type": "code",
   "execution_count": null,
   "metadata": {},
   "outputs": [],
   "source": [
    "responses = {\n",
    "    'Team Status': team_status, 'Stakeholders Status': stakeholders_status,\n",
    "    'Plans Status': plans_status, 'TOR Status': tor_status, 'Strategy Status': strategy_status,\n",
    "    'Commitment Status': commitment_status, 'Resources Status': resources_status,\n",
    "    \"Comments\": section_1_comment\n",
    "}"
   ]
  },
  {
   "cell_type": "code",
   "execution_count": 35,
   "metadata": {},
   "outputs": [
    {
     "data": {
      "text/html": [
       "<div>\n",
       "<style scoped>\n",
       "    .dataframe tbody tr th:only-of-type {\n",
       "        vertical-align: middle;\n",
       "    }\n",
       "\n",
       "    .dataframe tbody tr th {\n",
       "        vertical-align: top;\n",
       "    }\n",
       "\n",
       "    .dataframe thead th {\n",
       "        text-align: right;\n",
       "    }\n",
       "</style>\n",
       "<table border=\"1\" class=\"dataframe\">\n",
       "  <thead>\n",
       "    <tr style=\"text-align: right;\">\n",
       "      <th></th>\n",
       "      <th>question</th>\n",
       "    </tr>\n",
       "  </thead>\n",
       "  <tbody>\n",
       "    <tr>\n",
       "      <th>0</th>\n",
       "      <td>1</td>\n",
       "    </tr>\n",
       "    <tr>\n",
       "      <th>1</th>\n",
       "      <td>3</td>\n",
       "    </tr>\n",
       "    <tr>\n",
       "      <th>2</th>\n",
       "      <td>5</td>\n",
       "    </tr>\n",
       "  </tbody>\n",
       "</table>\n",
       "</div>"
      ],
      "text/plain": [
       "   question\n",
       "0         1\n",
       "1         3\n",
       "2         5"
      ]
     },
     "execution_count": 35,
     "metadata": {},
     "output_type": "execute_result"
    }
   ],
   "source": [
    "x = [1, 3, 5]\n",
    "pd.DataFrame(x, columns=[\"question\"])"
   ]
  },
  {
   "cell_type": "code",
   "execution_count": 77,
   "metadata": {},
   "outputs": [],
   "source": [
    "questions = [\n",
    "    \"There is a multidisciplinary team responsible for forecasting and supply planning for vaccines. This can be any working group or unit responsible for FSP in the MOH\",\n",
    "    \"Inclusion of all relevant stakeholders in forecasting and supply planning for vaccines in the country\",\n",
    "    \"Existence of work plans, MoUs, or TORs for vaccine forecasting and supply planning (stand-alone or anchored on other documents)\",\n",
    "    \"The TOR covers the following key FSP functions and responsibilities listed; i) developing work plans, ii) organizing and completing FSP preparatory activities, iii) developing a forecast and supply plan, iv) ensuring FSP monitoring and implementation of a continuous improvement plan, v) leading standardization of FSP processes and training of members, vi) liaising with and leveraging skills and expertise available in other program areas to ensure alignment and integration; and, vii) supporting other innovative activities such as new vaccine introduction\",\n",
    "    \"The EPI program has a supply chain strategy that covers the following key technical areas of FSP; Preparatory activities for FSP (e.g. gathering and ratifying data assumptions and consultation meetings or workshops), Forecasting, Supply Planning, Pipeline Monitoring, and FSP performance monitoring\",\n",
    "    \"Commitment from the relevant stakeholders toward forecasting and supply planning for vaccines\",\n",
    "    \"Resources allocated for forecasting and supply planning-related tasks\",\n",
    "    \"FSP Policies, Commitment & Political Will Comments\",\n",
    "    \"Presence of a reliable system for collecting disaggregated data\",\n",
    "    \"Access to relevant, quality, and disaggregated data (consumption data by product, dose and month, wastages - open and closed vial wastage, adjustments, expiries, etc.)\",\n",
    "    \"Accuracy of stock balances\",\n",
    "    \"Data reporting practices (timeliness of reporting)\",\n",
    "    \"Standardized tools for forecasting and supply planning are routinely used\",\n",
    "    \"Data Comments\",\n",
    "    \"Stock status is routinely assessed\",\n",
    "    \"Methodology used for forecasting vaccines\",\n",
    "    \"Data from decentralized levels (e.g., regions, districts, facilities) is used to develop the national forecast and supply plan\",\n",
    "    \"Triangulation of data from different sources when developing national forecasts, e.g. EPI forecasting tool, stock management tool (SMT), District Vaccine Data Management Tool (DVD/MT), District Health Information System 2 (DHIS2), ViVa e.t.c\",\n",
    "    \"Calculate and update forecasts based on updated data and discussions with stakeholders\",\n",
    "    \"Forecasts and supply plans developed (determination of what needs to be ordered by whom and when)\",\n",
    "    \"Forecasting and supply plan report (or supply plan) cover key components of the quantification report (or supply plan), i.e. Forecasting assumptions and considerations, Forecasted quantities, Quantities required to fill the supply pipeline, funding requirement/costs, shipment schedules, including specific lead times where applicable\",\n",
    "    \"Conduct scenario monitoring\",\n",
    "    \"Ability to estimate the potential for vaccine expiry\",\n",
    "    \"Analysis Comments\",\n",
    "    \"Forecasting and supply planning activities included in the EPI work plans\",\n",
    "    \"Forecasting and supply planning activities are inclusive of all relevant stakeholders (including implementing partners and donors)\",\n",
    "    \"Regular and routine supply planning meetings scheduled (ideally quarterly at minimum)\",\n",
    "    \"Forecasting and supply planning meetings review previous actions and recommendations\",\n",
    "    \"Flexible to convene ad-hoc meetings to respond to emerging supply planning (SP) needs\",\n",
    "    \"Decisions made in a timely and well-coordinated manner\",\n",
    "    \"Decisions are based on evidence\",\n",
    "    \"Meetings address supply planning risks\",\n",
    "    \"Forecasting and Supply Planning Activities Comments\",\n",
    "    \"Results of forecasting and supply planning reports are communicated to all relevant stakeholders\",\n",
    "    \"Recommended adjustments are communicated to all relevant stakeholders\",\n",
    "    \"Recommended adjustments are made in a timely and complete fashion\",\n",
    "    \"Funding is available in a timely manner for total commodity requirement\",\n",
    "    \"Funding is available to implement the recommended supply plan adjustments in a timely manner\",\n",
    "    \"Funding and Adjustments of Forecasts and Supply Plans Comments\"\n",
    "]\n",
    "questions_df = pd.DataFrame(questions, columns=[\"questions\"])"
   ]
  },
  {
   "cell_type": "code",
   "execution_count": 53,
   "metadata": {},
   "outputs": [],
   "source": [
    "import gspread\n",
    "import pandas as pd"
   ]
  },
  {
   "cell_type": "code",
   "execution_count": 54,
   "metadata": {},
   "outputs": [],
   "source": [
    "client = gspread.service_account(filename=\"credentials.json\")\n",
    "working_sheet = client.open(\"icsps_data_make_a_copy\")"
   ]
  },
  {
   "cell_type": "code",
   "execution_count": null,
   "metadata": {},
   "outputs": [],
   "source": [
    "sh = working_sheet.get_worksheet(0)\n",
    "sh.update(\"A1\", \"de\")"
   ]
  },
  {
   "cell_type": "code",
   "execution_count": null,
   "metadata": {},
   "outputs": [],
   "source": [
    "working_sheet.values_update(\"A2\", \"23\")"
   ]
  },
  {
   "cell_type": "code",
   "execution_count": 71,
   "metadata": {},
   "outputs": [],
   "source": [
    "import pins\n",
    "my_board = pins.board_folder(\n",
    "    \"G:/My Drive/George/ICSPS-Data-Project/pins_icsps\")"
   ]
  },
  {
   "cell_type": "code",
   "execution_count": 79,
   "metadata": {},
   "outputs": [
    {
     "name": "stderr",
     "output_type": "stream",
     "text": [
      "Writing pin:\n",
      "Name: 'icsps_questions'\n",
      "Version: 20240303T154818Z-b3ce3\n"
     ]
    },
    {
     "data": {
      "text/plain": [
       "Meta(title='icsps_questions: a pinned 39 x 1 DataFrame', description=None, created='20240303T154818Z', pin_hash='b3ce3dea4b8ba999', file='icsps_questions.csv', file_size=4099, type='csv', api_version=1, version=Version(created=datetime.datetime(2024, 3, 3, 15, 48, 18, 192950), hash='b3ce3dea4b8ba999'), tags=None, name='icsps_questions', user={}, local={})"
      ]
     },
     "execution_count": 79,
     "metadata": {},
     "output_type": "execute_result"
    }
   ],
   "source": [
    "my_board.pin_write(questions_df, \"icsps_questions\", type=\"csv\")"
   ]
  },
  {
   "cell_type": "code",
   "execution_count": 80,
   "metadata": {},
   "outputs": [
    {
     "data": {
      "text/html": [
       "<div>\n",
       "<style scoped>\n",
       "    .dataframe tbody tr th:only-of-type {\n",
       "        vertical-align: middle;\n",
       "    }\n",
       "\n",
       "    .dataframe tbody tr th {\n",
       "        vertical-align: top;\n",
       "    }\n",
       "\n",
       "    .dataframe thead th {\n",
       "        text-align: right;\n",
       "    }\n",
       "</style>\n",
       "<table border=\"1\" class=\"dataframe\">\n",
       "  <thead>\n",
       "    <tr style=\"text-align: right;\">\n",
       "      <th></th>\n",
       "      <th>questions</th>\n",
       "    </tr>\n",
       "  </thead>\n",
       "  <tbody>\n",
       "    <tr>\n",
       "      <th>0</th>\n",
       "      <td>There is a multidisciplinary team responsible ...</td>\n",
       "    </tr>\n",
       "    <tr>\n",
       "      <th>1</th>\n",
       "      <td>Inclusion of all relevant stakeholders in fore...</td>\n",
       "    </tr>\n",
       "    <tr>\n",
       "      <th>2</th>\n",
       "      <td>Existence of work plans, MoUs, or TORs for vac...</td>\n",
       "    </tr>\n",
       "    <tr>\n",
       "      <th>3</th>\n",
       "      <td>The TOR covers the following key FSP functions...</td>\n",
       "    </tr>\n",
       "    <tr>\n",
       "      <th>4</th>\n",
       "      <td>The EPI program has a supply chain strategy th...</td>\n",
       "    </tr>\n",
       "    <tr>\n",
       "      <th>5</th>\n",
       "      <td>Commitment from the relevant stakeholders towa...</td>\n",
       "    </tr>\n",
       "    <tr>\n",
       "      <th>6</th>\n",
       "      <td>Resources allocated for forecasting and supply...</td>\n",
       "    </tr>\n",
       "    <tr>\n",
       "      <th>7</th>\n",
       "      <td>FSP Policies, Commitment &amp; Political Will Comm...</td>\n",
       "    </tr>\n",
       "    <tr>\n",
       "      <th>8</th>\n",
       "      <td>Presence of a reliable system for collecting d...</td>\n",
       "    </tr>\n",
       "    <tr>\n",
       "      <th>9</th>\n",
       "      <td>Access to relevant, quality, and disaggregated...</td>\n",
       "    </tr>\n",
       "    <tr>\n",
       "      <th>10</th>\n",
       "      <td>Accuracy of stock balances</td>\n",
       "    </tr>\n",
       "    <tr>\n",
       "      <th>11</th>\n",
       "      <td>Data reporting practices (timeliness of report...</td>\n",
       "    </tr>\n",
       "    <tr>\n",
       "      <th>12</th>\n",
       "      <td>Standardized tools for forecasting and supply ...</td>\n",
       "    </tr>\n",
       "    <tr>\n",
       "      <th>13</th>\n",
       "      <td>Data Comments</td>\n",
       "    </tr>\n",
       "    <tr>\n",
       "      <th>14</th>\n",
       "      <td>Stock status is routinely assessed</td>\n",
       "    </tr>\n",
       "    <tr>\n",
       "      <th>15</th>\n",
       "      <td>Methodology used for forecasting vaccines</td>\n",
       "    </tr>\n",
       "    <tr>\n",
       "      <th>16</th>\n",
       "      <td>Data from decentralized levels (e.g., regions,...</td>\n",
       "    </tr>\n",
       "    <tr>\n",
       "      <th>17</th>\n",
       "      <td>Triangulation of data from different sources w...</td>\n",
       "    </tr>\n",
       "    <tr>\n",
       "      <th>18</th>\n",
       "      <td>Calculate and update forecasts based on update...</td>\n",
       "    </tr>\n",
       "    <tr>\n",
       "      <th>19</th>\n",
       "      <td>Forecasts and supply plans developed (determin...</td>\n",
       "    </tr>\n",
       "    <tr>\n",
       "      <th>20</th>\n",
       "      <td>Forecasting and supply plan report (or supply ...</td>\n",
       "    </tr>\n",
       "    <tr>\n",
       "      <th>21</th>\n",
       "      <td>Conduct scenario monitoring</td>\n",
       "    </tr>\n",
       "    <tr>\n",
       "      <th>22</th>\n",
       "      <td>Ability to estimate the potential for vaccine ...</td>\n",
       "    </tr>\n",
       "    <tr>\n",
       "      <th>23</th>\n",
       "      <td>Analysis Comments</td>\n",
       "    </tr>\n",
       "    <tr>\n",
       "      <th>24</th>\n",
       "      <td>Forecasting and supply planning activities inc...</td>\n",
       "    </tr>\n",
       "    <tr>\n",
       "      <th>25</th>\n",
       "      <td>Forecasting and supply planning activities are...</td>\n",
       "    </tr>\n",
       "    <tr>\n",
       "      <th>26</th>\n",
       "      <td>Regular and routine supply planning meetings s...</td>\n",
       "    </tr>\n",
       "    <tr>\n",
       "      <th>27</th>\n",
       "      <td>Forecasting and supply planning meetings revie...</td>\n",
       "    </tr>\n",
       "    <tr>\n",
       "      <th>28</th>\n",
       "      <td>Flexible to convene ad-hoc meetings to respond...</td>\n",
       "    </tr>\n",
       "    <tr>\n",
       "      <th>29</th>\n",
       "      <td>Decisions made in a timely and well-coordinate...</td>\n",
       "    </tr>\n",
       "    <tr>\n",
       "      <th>30</th>\n",
       "      <td>Decisions are based on evidence</td>\n",
       "    </tr>\n",
       "    <tr>\n",
       "      <th>31</th>\n",
       "      <td>Meetings address supply planning risks</td>\n",
       "    </tr>\n",
       "    <tr>\n",
       "      <th>32</th>\n",
       "      <td>Forecasting and Supply Planning Activities Com...</td>\n",
       "    </tr>\n",
       "    <tr>\n",
       "      <th>33</th>\n",
       "      <td>Results of forecasting and supply planning rep...</td>\n",
       "    </tr>\n",
       "    <tr>\n",
       "      <th>34</th>\n",
       "      <td>Recommended adjustments are communicated to al...</td>\n",
       "    </tr>\n",
       "    <tr>\n",
       "      <th>35</th>\n",
       "      <td>Recommended adjustments are made in a timely a...</td>\n",
       "    </tr>\n",
       "    <tr>\n",
       "      <th>36</th>\n",
       "      <td>Funding is available in a timely manner for to...</td>\n",
       "    </tr>\n",
       "    <tr>\n",
       "      <th>37</th>\n",
       "      <td>Funding is available to implement the recommen...</td>\n",
       "    </tr>\n",
       "    <tr>\n",
       "      <th>38</th>\n",
       "      <td>Funding and Adjustments of Forecasts and Suppl...</td>\n",
       "    </tr>\n",
       "  </tbody>\n",
       "</table>\n",
       "</div>"
      ],
      "text/plain": [
       "                                            questions\n",
       "0   There is a multidisciplinary team responsible ...\n",
       "1   Inclusion of all relevant stakeholders in fore...\n",
       "2   Existence of work plans, MoUs, or TORs for vac...\n",
       "3   The TOR covers the following key FSP functions...\n",
       "4   The EPI program has a supply chain strategy th...\n",
       "5   Commitment from the relevant stakeholders towa...\n",
       "6   Resources allocated for forecasting and supply...\n",
       "7   FSP Policies, Commitment & Political Will Comm...\n",
       "8   Presence of a reliable system for collecting d...\n",
       "9   Access to relevant, quality, and disaggregated...\n",
       "10                         Accuracy of stock balances\n",
       "11  Data reporting practices (timeliness of report...\n",
       "12  Standardized tools for forecasting and supply ...\n",
       "13                                      Data Comments\n",
       "14                 Stock status is routinely assessed\n",
       "15          Methodology used for forecasting vaccines\n",
       "16  Data from decentralized levels (e.g., regions,...\n",
       "17  Triangulation of data from different sources w...\n",
       "18  Calculate and update forecasts based on update...\n",
       "19  Forecasts and supply plans developed (determin...\n",
       "20  Forecasting and supply plan report (or supply ...\n",
       "21                        Conduct scenario monitoring\n",
       "22  Ability to estimate the potential for vaccine ...\n",
       "23                                  Analysis Comments\n",
       "24  Forecasting and supply planning activities inc...\n",
       "25  Forecasting and supply planning activities are...\n",
       "26  Regular and routine supply planning meetings s...\n",
       "27  Forecasting and supply planning meetings revie...\n",
       "28  Flexible to convene ad-hoc meetings to respond...\n",
       "29  Decisions made in a timely and well-coordinate...\n",
       "30                    Decisions are based on evidence\n",
       "31             Meetings address supply planning risks\n",
       "32  Forecasting and Supply Planning Activities Com...\n",
       "33  Results of forecasting and supply planning rep...\n",
       "34  Recommended adjustments are communicated to al...\n",
       "35  Recommended adjustments are made in a timely a...\n",
       "36  Funding is available in a timely manner for to...\n",
       "37  Funding is available to implement the recommen...\n",
       "38  Funding and Adjustments of Forecasts and Suppl..."
      ]
     },
     "execution_count": 80,
     "metadata": {},
     "output_type": "execute_result"
    }
   ],
   "source": [
    "my_board.pin_read(\"icsps_questions\")"
   ]
  },
  {
   "cell_type": "code",
   "execution_count": null,
   "metadata": {},
   "outputs": [],
   "source": [
    "my_board_on = pins.board(\n",
    "    \"https://drive.google.com/drive/folders/1tDsuLZKP2kfYsISAzStAWN20Iz6tBpvk\",\n",
    "    versioned=False\n",
    ")"
   ]
  },
  {
   "cell_type": "code",
   "execution_count": 82,
   "metadata": {},
   "outputs": [],
   "source": [
    "import streamlit as st\n",
    "import gspread\n",
    "from google.oauth2.service_account import Credentials\n",
    "from gspread_dataframe import set_with_dataframe\n",
    "\n",
    "# Authenticate with Google Drive\n",
    "\n",
    "\n",
    "def authenticate():\n",
    "    scope = [\"https://spreadsheets.google.com/feeds\",\n",
    "             \"https://www.googleapis.com/auth/drive\"]\n",
    "    creds = Credentials.from_service_account_file(\n",
    "        \"credentials.json\", scopes=scope)\n",
    "    client = gspread.authorize(creds)\n",
    "    return client"
   ]
  },
  {
   "cell_type": "code",
   "execution_count": 83,
   "metadata": {},
   "outputs": [],
   "source": [
    "# Function to append data to Google Sheet\n",
    "\n",
    "\n",
    "def append_to_sheet(df, sheet_name):\n",
    "    client = authenticate()\n",
    "    sheet = client.open(sheet_name).sheet1  # Change the sheet name as needed\n",
    "    existing_data = sheet.get_all_records()\n",
    "    existing_df = pd.DataFrame(existing_data)\n",
    "    combined_df = pd.concat([existing_df, df], ignore_index=True)\n",
    "    set_with_dataframe(sheet, combined_df)\n",
    "\n",
    "# Main Streamlit app"
   ]
  },
  {
   "cell_type": "code",
   "execution_count": 87,
   "metadata": {},
   "outputs": [],
   "source": [
    "append_to_sheet(questions_df, \"icsps_data_make_a_copy\")"
   ]
  },
  {
   "cell_type": "code",
   "execution_count": 102,
   "metadata": {},
   "outputs": [
    {
     "data": {
      "text/plain": [
       "8.0"
      ]
     },
     "execution_count": 102,
     "metadata": {},
     "output_type": "execute_result"
    }
   ],
   "source": [
    "\n",
    "\n",
    "x = [1, None, 3, 4]\n",
    "x_df = pd.DataFrame(x, columns=[\"x\"])\n",
    "x_df[\"x\"].sum(skipna=True)"
   ]
  },
  {
   "cell_type": "code",
   "execution_count": null,
   "metadata": {},
   "outputs": [],
   "source": [
    "import streamlit as st\n",
    "st.checkbox()"
   ]
  },
  {
   "cell_type": "code",
   "execution_count": 4,
   "metadata": {},
   "outputs": [
    {
     "name": "stdout",
     "output_type": "stream",
     "text": [
      "No empty value exists in the list.\n"
     ]
    }
   ],
   "source": [
    "# Example list\n",
    "my_list = [1, 2, 3, 4, 5]\n",
    "\n",
    "# Check if an empty value exists in the list\n",
    "if any(not item for item in my_list):\n",
    "    print(\"An empty value exists in the list.\")\n",
    "else:\n",
    "    print(\"No empty value exists in the list.\")"
   ]
  },
  {
   "cell_type": "code",
   "execution_count": 18,
   "metadata": {},
   "outputs": [
    {
     "data": {
      "text/plain": [
       "0    False\n",
       "1    False\n",
       "2    False\n",
       "3    False\n",
       "4    False\n",
       "5    False\n",
       "6    False\n",
       "dtype: bool"
      ]
     },
     "execution_count": 18,
     "metadata": {},
     "output_type": "execute_result"
    }
   ],
   "source": [
    "# Sample DataFrame\n",
    "data = {'A': [1, 2, 2, 3, 4, 4, 5],\n",
    "        'B': ['a', 'b', 'c', 'd', 'e', 'f', 'g']}\n",
    "df = pd.DataFrame(data)\n",
    "\n",
    "# Check for duplicates based on columns 'A' and 'B'\n",
    "duplicates = df.duplicated(subset=['A', 'B'])\n",
    "duplicates"
   ]
  },
  {
   "cell_type": "code",
   "execution_count": null,
   "metadata": {},
   "outputs": [],
   "source": [
    "x = x_df[[\"name\", \"Id\"]].unique()\n",
    "print(x)\n",
    "\n",
    "\"George\" in x"
   ]
  },
  {
   "cell_type": "code",
   "execution_count": 3,
   "metadata": {},
   "outputs": [
    {
     "name": "stdout",
     "output_type": "stream",
     "text": [
      "Sum of values in the list: 12\n"
     ]
    }
   ],
   "source": [
    "my_list = [1, 2, None, 4, None, 5]\n",
    "\n",
    "# Using a loop\n",
    "total = 0\n",
    "for item in my_list:\n",
    "    if item is not None:\n",
    "        total += item\n",
    "\n",
    "print(\"Sum of values in the list:\", total)"
   ]
  }
 ],
 "metadata": {
  "kernelspec": {
   "display_name": "Python 3",
   "language": "python",
   "name": "python3"
  },
  "language_info": {
   "codemirror_mode": {
    "name": "ipython",
    "version": 3
   },
   "file_extension": ".py",
   "mimetype": "text/x-python",
   "name": "python",
   "nbconvert_exporter": "python",
   "pygments_lexer": "ipython3",
   "version": "3.12.4"
  }
 },
 "nbformat": 4,
 "nbformat_minor": 2
}
