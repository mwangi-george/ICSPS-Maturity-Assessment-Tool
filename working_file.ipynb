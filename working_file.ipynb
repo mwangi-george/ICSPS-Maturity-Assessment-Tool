{
 "cells": [
  {
   "cell_type": "code",
   "execution_count": 6,
   "metadata": {},
   "outputs": [
    {
     "data": {
      "text/plain": [
       "'April'"
      ]
     },
     "execution_count": 6,
     "metadata": {},
     "output_type": "execute_result"
    }
   ],
   "source": [
    "import calendar\n",
    "\n",
    "calendar.month_name[4]"
   ]
  },
  {
   "cell_type": "code",
   "execution_count": 7,
   "metadata": {},
   "outputs": [
    {
     "name": "stdout",
     "output_type": "stream",
     "text": [
      "   array1  array2  array3\n",
      "0     1.0     4.0       6\n",
      "1     2.0     5.0       7\n",
      "2     3.0     NaN       8\n",
      "3     NaN     NaN       9\n"
     ]
    }
   ],
   "source": [
    "import pandas as pd\n",
    "\n",
    "# Example dictionary with arrays of different lengths\n",
    "data = {\n",
    "    'array1': [1, 2, 3],\n",
    "    'array2': [4, 5],\n",
    "    'array3': [6, 7, 8, 9]\n",
    "}\n",
    "\n",
    "# Determine the maximum length of arrays\n",
    "max_length = max(len(arr) for arr in data.values())\n",
    "\n",
    "# Pad shorter arrays with NaN to match the maximum length\n",
    "padded_data = {key: arr + [float('nan')] * (max_length - len(arr))\n",
    "               for key, arr in data.items()}\n",
    "\n",
    "# Convert the padded data to a DataFrame\n",
    "df = pd.DataFrame(padded_data)\n",
    "\n",
    "# Display the DataFrame\n",
    "print(df)"
   ]
  },
  {
   "cell_type": "code",
   "execution_count": null,
   "metadata": {},
   "outputs": [],
   "source": [
    "\n",
    "selected = option_menu(\n",
    "    menu_title=None,\n",
    "    options=[\n",
    "        \"Home Page\",\n",
    "        \"Data Entry\",\n",
    "\n",
    "    ],\n",
    "    icons=[\n",
    "        'house', '1-circle', '2-circle', '3-circle',\n",
    "        '4-circle', '5-circle', '6-circle'\n",
    "    ],\n",
    "    menu_icon=\"list-nested\",\n",
    "    default_index=0,\n",
    "    orientation=\"horizontal\"\n",
    ")"
   ]
  },
  {
   "cell_type": "code",
   "execution_count": null,
   "metadata": {},
   "outputs": [],
   "source": [
    "def owner_data():\n",
    "    details = {\n",
    "        \"date_recorded\": datetime.now(),\n",
    "        \"country\": st.session_state.country_name,\n",
    "        \"name/org\": st.session_state.owner_name,\n",
    "        \"review_period\": st.session_state.review_period\n",
    "    }\n",
    "    return details"
   ]
  },
  {
   "cell_type": "code",
   "execution_count": null,
   "metadata": {},
   "outputs": [],
   "source": [
    "\n",
    "if st.button(\"Submit & Proceed\", key=\"owner_info_button\"):\n",
    "    if not country_being_assessed or not owner_name or not review_period:\n",
    "        st.error(\"Please fill out all fields.\")\n",
    "    else:\n",
    "        print(country_being_assessed, owner_name, review_period)\n",
    "        st.success(\n",
    "            \"Submitted! Proceed to the next tab to perform assessment\")"
   ]
  },
  {
   "cell_type": "code",
   "execution_count": 15,
   "metadata": {},
   "outputs": [
    {
     "data": {
      "text/html": [
       "<div>\n",
       "<style scoped>\n",
       "    .dataframe tbody tr th:only-of-type {\n",
       "        vertical-align: middle;\n",
       "    }\n",
       "\n",
       "    .dataframe tbody tr th {\n",
       "        vertical-align: top;\n",
       "    }\n",
       "\n",
       "    .dataframe thead th {\n",
       "        text-align: right;\n",
       "    }\n",
       "</style>\n",
       "<table border=\"1\" class=\"dataframe\">\n",
       "  <thead>\n",
       "    <tr style=\"text-align: right;\">\n",
       "      <th></th>\n",
       "      <th>x</th>\n",
       "    </tr>\n",
       "  </thead>\n",
       "  <tbody>\n",
       "    <tr>\n",
       "      <th>0</th>\n",
       "      <td>team_status</td>\n",
       "    </tr>\n",
       "  </tbody>\n",
       "</table>\n",
       "</div>"
      ],
      "text/plain": [
       "             x\n",
       "0  team_status"
      ]
     },
     "execution_count": 15,
     "metadata": {},
     "output_type": "execute_result"
    }
   ],
   "source": [
    "import pandas as pd\n",
    "\n",
    "responses = {\n",
    "    \"x\": \"team_status\"\n",
    "}\n",
    "\n",
    "pd.DataFrame(responses, index=[0])"
   ]
  },
  {
   "cell_type": "code",
   "execution_count": null,
   "metadata": {},
   "outputs": [],
   "source": [
    "pd.DataFrame(responses, index=\"1\")"
   ]
  },
  {
   "cell_type": "code",
   "execution_count": null,
   "metadata": {},
   "outputs": [],
   "source": [
    "x = {\n",
    "    \"name\": \"George\", \"Id\": 2344\n",
    "}\n",
    "x_df = pd.DataFrame(x, index=[0])\n",
    "\n",
    "y = {\n",
    "    \"name\": \"George\", \"Id\": 2344, \"gender\": \"M\"\n",
    "}"
   ]
  }
 ],
 "metadata": {
  "kernelspec": {
   "display_name": "Python 3",
   "language": "python",
   "name": "python3"
  },
  "language_info": {
   "codemirror_mode": {
    "name": "ipython",
    "version": 3
   },
   "file_extension": ".py",
   "mimetype": "text/x-python",
   "name": "python",
   "nbconvert_exporter": "python",
   "pygments_lexer": "ipython3",
   "version": "3.12.0"
  }
 },
 "nbformat": 4,
 "nbformat_minor": 2
}
